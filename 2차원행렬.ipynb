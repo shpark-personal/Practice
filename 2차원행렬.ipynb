{
 "cells": [
  {
   "attachments": {},
   "cell_type": "markdown",
   "metadata": {},
   "source": [
    "# 2차원 행렬"
   ]
  },
  {
   "attachments": {},
   "cell_type": "markdown",
   "metadata": {},
   "source": [
    "### 2783 행렬의 덧셈"
   ]
  },
  {
   "cell_type": "code",
   "execution_count": 9,
   "metadata": {},
   "outputs": [
    {
     "name": "stdout",
     "output_type": "stream",
     "text": [
      "3 \n"
     ]
    }
   ],
   "source": [
    "A, B = [], []\n",
    "\n",
    "N, M = map(int, input().split())\n",
    "\n",
    "for row in range(N):\n",
    "    row = list(map(int, input().split()))\n",
    "    A.append(row)\n",
    "\n",
    "for row in range(N):\n",
    "    row = list(map(int, input().split()))\n",
    "    B.append(row)\n",
    "    \n",
    "for row in range(N):\n",
    "    for col in range(M):\n",
    "        print(A[row][col] + B[row][col], end=' ')\n",
    "    print()"
   ]
  },
  {
   "attachments": {},
   "cell_type": "markdown",
   "metadata": {},
   "source": [
    "### 2566 최댓값"
   ]
  },
  {
   "cell_type": "code",
   "execution_count": 13,
   "metadata": {},
   "outputs": [
    {
     "name": "stdout",
     "output_type": "stream",
     "text": [
      "-1\n",
      "0 0\n"
     ]
    }
   ],
   "source": [
    "maxVal, rowNum, colNum = -1, 0, 0\n",
    "for i in range(9):\n",
    "    row = list(map(int, input().split()))\n",
    "    for c in range(len(row)):\n",
    "        if (row[c] > maxVal):\n",
    "            rowNum = i + 1\n",
    "            colNum = c + 1\n",
    "            maxVal = row[c]\n",
    "\n",
    "result = [rowNum, colNum]\n",
    "print(maxVal)\n",
    "print(' '.join(map(str, result)))"
   ]
  },
  {
   "attachments": {},
   "cell_type": "markdown",
   "metadata": {},
   "source": [
    "### 2563 색종이"
   ]
  },
  {
   "cell_type": "code",
   "execution_count": 11,
   "metadata": {},
   "outputs": [
    {
     "name": "stdout",
     "output_type": "stream",
     "text": [
      "260\n"
     ]
    }
   ],
   "source": [
    "board = [[0 for i in range(100)] for j in range(100)]\n",
    "\n",
    "count = int(input())\n",
    "for c in range(count) :\n",
    "    N, M = map(int, input().split())\n",
    "    for i in range(10):\n",
    "        n = N\n",
    "        for j in range(10):\n",
    "            board[M][n] = 1\n",
    "            n += 1\n",
    "            if(n > 100): \n",
    "                break\n",
    "        M += 1\n",
    "        if(M > 100): \n",
    "            break\n",
    "\n",
    "result = 0\n",
    "for r in board:\n",
    "    result += sum(r)\n",
    "\n",
    "print(result)"
   ]
  }
 ],
 "metadata": {
  "kernelspec": {
   "display_name": "cpu_env",
   "language": "python",
   "name": "cpu_env"
  },
  "language_info": {
   "codemirror_mode": {
    "name": "ipython",
    "version": 3
   },
   "file_extension": ".py",
   "mimetype": "text/x-python",
   "name": "python",
   "nbconvert_exporter": "python",
   "pygments_lexer": "ipython3",
   "version": "3.8.5"
  },
  "orig_nbformat": 4,
  "vscode": {
   "interpreter": {
    "hash": "81794d4967e6c3204c66dcd87b604927b115b27c00565d3d43f05ba2f3a2cb0d"
   }
  }
 },
 "nbformat": 4,
 "nbformat_minor": 2
}
